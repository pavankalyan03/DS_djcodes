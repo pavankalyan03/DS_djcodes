{
 "cells": [
  {
   "cell_type": "code",
   "execution_count": 3,
   "id": "e45e5259",
   "metadata": {},
   "outputs": [
    {
     "name": "stdout",
     "output_type": "stream",
     "text": [
      "5 6 11 12 13 "
     ]
    }
   ],
   "source": [
    "def insertionSortRecursive(arr,n):\n",
    "\t\n",
    "\tif n<=1:\n",
    "\t\treturn\n",
    "\t\n",
    "\t\n",
    "\tinsertionSortRecursive(arr,n-1)\n",
    "\t'''Insert last element at its correct position\n",
    "\t\tin sorted array.'''\n",
    "\tlast = arr[n-1]\n",
    "\tj = n-2\n",
    "\t\n",
    "\twhile (j>=0 and arr[j]>last):\n",
    "\t\tarr[j+1] = arr[j]\n",
    "\t\tj = j-1\n",
    "\n",
    "\tarr[j+1]=last\n",
    "\t\n",
    "\n",
    "def printArray(arr,n):\n",
    "\tfor i in range(n):\n",
    "\t\tprint(arr[i],end=\" \")\n",
    "\n",
    "\n",
    "arr = [12,11,13,5,6]\n",
    "n = len(arr)\n",
    "insertionSortRecursive(arr, n)\n",
    "printArray(arr, n)"
   ]
  },
  {
   "cell_type": "code",
   "execution_count": 4,
   "id": "8af81622",
   "metadata": {},
   "outputs": [
    {
     "name": "stdout",
     "output_type": "stream",
     "text": [
      "123\n",
      "6 10 14 15 21 22 26 33 34 35 38 39 46 51 55 57 58 62 65 69 74 77 82 85 86 87 91 93 94 95 106 111 115 118 119 122 123 "
     ]
    }
   ],
   "source": [
    "# Python 3 program to find numbers that are product of exactly two distinct prime numbers\n",
    "\n",
    "import math\n",
    "# Function to check whether a number\n",
    "# is a PerfectSquare or not\n",
    "def isPerfectSquare(x):\n",
    "\n",
    "\tsr = math.sqrt(x)\n",
    "\n",
    "\treturn ((sr - math.floor(sr)) == 0)\n",
    "\n",
    "# Function to check if a number is a\n",
    "# product of exactly two distinct primes\n",
    "def isProduct( num):\n",
    "\tcnt = 0\n",
    "\n",
    "\ti = 2\n",
    "\twhile cnt < 2 and i * i <= num:\n",
    "\t\twhile (num % i == 0) :\n",
    "\t\t\tnum //= i\n",
    "\t\t\tcnt += 1\n",
    "\t\ti += 1\n",
    "\n",
    "\tif (num > 1):\n",
    "\t\tcnt += 1\n",
    "\n",
    "\treturn cnt == 2\n",
    "\n",
    "# Function to find numbers that are product\n",
    "# of exactly two distinct prime numbers.\n",
    "def findNumbers(N):\n",
    "\t# Vector to store such numbers\n",
    "\tvec = []\n",
    "\n",
    "\tfor i in range(1,N+1) :\n",
    "\t\tif (isProduct(i) and not isPerfectSquare(i)) :\n",
    "\n",
    "\t\t\t# insert in the vector\n",
    "\t\t\tvec.append(i)\n",
    "\n",
    "\t# Print all numbers till n from the vector\n",
    "\tfor i in range(len( vec)):\n",
    "\t\tprint(vec[i] ,end= \" \")\n",
    "\n",
    "# Driver function\n",
    "\n",
    "\t\n",
    "N = int(input())\n",
    "findNumbers(N)"
   ]
  },
  {
   "cell_type": "code",
   "execution_count": 5,
   "id": "93a90f46",
   "metadata": {},
   "outputs": [
    {
     "name": "stdout",
     "output_type": "stream",
     "text": [
      "0 1 2 3 5 7 "
     ]
    }
   ],
   "source": [
    "# Recursive Python3 code to sort\n",
    "# an array using selection sort\n",
    " \n",
    "# Return minimum index\n",
    "def minIndex( a , i , j ):\n",
    "    if i == j:\n",
    "        return i\n",
    "         \n",
    "    # Find minimum of remaining elements\n",
    "    k = minIndex(a, i + 1, j)\n",
    "     \n",
    "    # Return minimum of current\n",
    "    # and remaining.\n",
    "    return (i if a[i] < a[k] else k)\n",
    "     \n",
    "# Recursive selection sort. n is\n",
    "# size of a[] and index is index of\n",
    "# starting element.\n",
    "def recurSelectionSort(a, n, index = 0):\n",
    " \n",
    "    # Return when starting and\n",
    "    # size are same\n",
    "    if index == n:\n",
    "        return -1\n",
    "         \n",
    "    # calling minimum index function\n",
    "    # for minimum index\n",
    "    k = minIndex(a, index, n-1)\n",
    "     \n",
    "    # Swapping when index and minimum\n",
    "    # index are not same\n",
    "    if k != index:\n",
    "        a[k], a[index] = a[index], a[k]\n",
    "         \n",
    "    # Recursively calling selection\n",
    "    # sort function\n",
    "    recurSelectionSort(a, n, index + 1)\n",
    "     \n",
    "# Driver code\n",
    "arr = [3, 1, 5, 2, 7, 0]\n",
    "n = len(arr)\n",
    " \n",
    "# Calling function\n",
    "recurSelectionSort(arr, n)\n",
    " \n",
    "# printing sorted array\n",
    "for i in arr:\n",
    "    print(i, end = ' ')\n"
   ]
  },
  {
   "cell_type": "code",
   "execution_count": null,
   "id": "8e1f1181",
   "metadata": {},
   "outputs": [],
   "source": []
  }
 ],
 "metadata": {
  "kernelspec": {
   "display_name": "Python 3 (ipykernel)",
   "language": "python",
   "name": "python3"
  },
  "language_info": {
   "codemirror_mode": {
    "name": "ipython",
    "version": 3
   },
   "file_extension": ".py",
   "mimetype": "text/x-python",
   "name": "python",
   "nbconvert_exporter": "python",
   "pygments_lexer": "ipython3",
   "version": "3.10.7"
  }
 },
 "nbformat": 4,
 "nbformat_minor": 5
}
